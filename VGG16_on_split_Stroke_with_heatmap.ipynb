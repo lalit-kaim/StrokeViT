{
 "cells": [
  {
   "cell_type": "code",
   "execution_count": 1,
   "metadata": {},
   "outputs": [
    {
     "name": "stdout",
     "output_type": "stream",
     "text": [
      "Default GPU Device: /device:GPU:0\n"
     ]
    }
   ],
   "source": [
    "import tensorflow as tf\n",
    "if tf.test.gpu_device_name():\n",
    "   print('Default GPU Device: {}'.format(tf.test.gpu_device_name()))\n",
    "else:\n",
    "   print(\"Please install GPU version of TF\")"
   ]
  },
  {
   "cell_type": "code",
   "execution_count": 2,
   "metadata": {
    "colab": {
     "background_save": true
    },
    "id": "1StPijVtBfA1",
    "outputId": "b14509d1-e882-48fc-a711-3c2adf72077b"
   },
   "outputs": [
    {
     "name": "stdout",
     "output_type": "stream",
     "text": [
      "5538\n",
      "1527\n",
      "1314\n"
     ]
    }
   ],
   "source": [
    "from tensorflow.keras.applications.vgg16 import VGG16\n",
    "from tensorflow.keras.preprocessing import image\n",
    "from tensorflow.keras.applications.vgg16 import preprocess_input, decode_predictions\n",
    "import numpy as np\n",
    "import glob \n",
    "from sklearn.preprocessing import LabelEncoder\n",
    "# from google.colab import drive\n",
    "# drive.mount('/content/drive')\n",
    "\n",
    "train_images = []\n",
    "test_images = []\n",
    "val_images = []\n",
    "train_labels = []\n",
    "test_labels = []\n",
    "val_labels = [] \n",
    "\n",
    "files1 = glob.glob(\"/home/user/Documents/Db-Stroke-Split/Normal-rgb-named/Split_1_Norm_Train/*.jpg\")\n",
    "files2 = glob.glob(\"/home/user/Documents/Db-Stroke-Split/Normal-rgb-named/Split_1_Norm_Test/*.jpg\")\n",
    "files3 = glob.glob(\"/home/user/Documents/Db-Stroke-Split/Normal-rgb-named/Split_1_Norm_Valid/*.jpg\") \n",
    "\n",
    "files4 = glob.glob(\"/home/user/Documents/Db-Stroke-Split/Hemorrhage-rgb-named/Split_1_Hem_Train/*.jpg\") \n",
    "files5 = glob.glob(\"/home/user/Documents/Db-Stroke-Split/Hemorrhage-rgb-named/Split_1_Hem_Test/*.jpg\") \n",
    "files6 = glob.glob(\"/home/user/Documents/Db-Stroke-Split/Hemorrhage-rgb-named/Split_1_Hem_Valid/*.jpg\")\n",
    "\n",
    "files7 = glob.glob(\"/home/user/Documents/Db-Stroke-Split/Infarct-rgb-named/Split_1_Inf_Train/*.jpg\") \n",
    "files8 = glob.glob(\"/home/user/Documents/Db-Stroke-Split/Infarct-rgb-named/Split_1_Inf_Test/*.jpg\") \n",
    "files9 = glob.glob(\"/home/user/Documents/Db-Stroke-Split/Infarct-rgb-named/Split_1_Inf_Valid/*.jpg\") \n",
    "\n",
    "for f1 in files1: \n",
    "    img = image.load_img(f1, target_size=(224, 224))\n",
    "    img = image.img_to_array(img)\n",
    "    train_images.append(img) \n",
    "    train_labels.append(\"N\")\n",
    "for f1 in files4: \n",
    "    img = image.load_img(f1, target_size=(224, 224))\n",
    "    img = image.img_to_array(img)\n",
    "    train_images.append(img) \n",
    "    train_labels.append(\"H\")\n",
    "for f1 in files7:\n",
    "    img = image.load_img(f1, target_size=(224, 224))\n",
    "    img = image.img_to_array(img) \n",
    "    train_images.append(img) \n",
    "    train_labels.append(\"I\")\n",
    "\n",
    "for f1 in files2:\n",
    "    img = image.load_img(f1, target_size=(224, 224))\n",
    "    img = image.img_to_array(img) \n",
    "    test_images.append(img) \n",
    "    test_labels.append(\"N\")\n",
    "for f1 in files5:\n",
    "    img = image.load_img(f1, target_size=(224, 224))\n",
    "    img = image.img_to_array(img) \n",
    "    test_images.append(img) \n",
    "    test_labels.append(\"H\")\n",
    "for f1 in files8:\n",
    "    img = image.load_img(f1, target_size=(224, 224))\n",
    "    img = image.img_to_array(img) \n",
    "    test_images.append(img) \n",
    "    test_labels.append(\"I\")\n",
    "\n",
    "for f1 in files3:\n",
    "    img = image.load_img(f1, target_size=(224, 224))\n",
    "    img = image.img_to_array(img) \n",
    "    val_images.append(img) \n",
    "    val_labels.append(\"N\")\n",
    "for f1 in files6:\n",
    "    img = image.load_img(f1, target_size=(224, 224))\n",
    "    img = image.img_to_array(img) \n",
    "    val_images.append(img) \n",
    "    val_labels.append(\"H\")\n",
    "for f1 in files9:\n",
    "    img = image.load_img(f1, target_size=(224, 224))\n",
    "    img = image.img_to_array(img) \n",
    "    val_images.append(img) \n",
    "    val_labels.append(\"I\")\n",
    "\n",
    "print(len(train_images))\n",
    "print(len(test_images))\n",
    "print(len(val_images))"
   ]
  },
  {
   "cell_type": "code",
   "execution_count": 3,
   "metadata": {
    "id": "1p57TIPbBfBC"
   },
   "outputs": [
    {
     "name": "stdout",
     "output_type": "stream",
     "text": [
      "(5538, 224, 224, 3)\n",
      "(5538, 3)\n",
      "(1527, 224, 224, 3)\n",
      "(1527, 3)\n",
      "(1314, 224, 224, 3)\n",
      "(1314, 3)\n",
      "5538\n",
      "1527\n",
      "1314\n"
     ]
    }
   ],
   "source": [
    "from keras.utils.np_utils import to_categorical\n",
    "le = LabelEncoder()\n",
    "\n",
    "train_labels = le.fit_transform(train_labels)\n",
    "test_labels = le.fit_transform(test_labels)\n",
    "val_labels = le.fit_transform(val_labels)\n",
    "\n",
    "y_train = to_categorical(train_labels)\n",
    "y_test = to_categorical(test_labels)\n",
    "y_val = to_categorical(val_labels)\n",
    "\n",
    "train=np.array(train_images)\n",
    "test=np.array(test_images)\n",
    "val=np.array(val_images)\n",
    "\n",
    "x_train=preprocess_input(train)\n",
    "x_test=preprocess_input(test)\n",
    "x_val=preprocess_input(val)\n",
    "\n",
    "print(x_train.shape)\n",
    "print(y_train.shape)\n",
    "print(x_test.shape)\n",
    "print(y_test.shape)\n",
    "print(x_val.shape)\n",
    "print(y_val.shape)\n",
    "print(len(y_train))\n",
    "print(len(y_test))\n",
    "print(len(y_val))\n",
    "# y_val[400:500]"
   ]
  },
  {
   "cell_type": "code",
   "execution_count": 4,
   "metadata": {
    "id": "A__JTy8wBfBC"
   },
   "outputs": [],
   "source": [
    "from sklearn.utils import shuffle\n",
    "\n",
    "x_train, y_train = shuffle(x_train, y_train)\n",
    "x_test, y_test = shuffle(x_test, y_test)\n",
    "x_val, y_val = shuffle(x_val, y_val)"
   ]
  },
  {
   "cell_type": "code",
   "execution_count": 5,
   "metadata": {
    "id": "GB0clJzRBfBD"
   },
   "outputs": [
    {
     "name": "stdout",
     "output_type": "stream",
     "text": [
      "Model: \"sequential\"\n",
      "_________________________________________________________________\n",
      "Layer (type)                 Output Shape              Param #   \n",
      "=================================================================\n",
      "conv2d (Conv2D)              (None, 224, 224, 64)      1792      \n",
      "_________________________________________________________________\n",
      "conv2d_1 (Conv2D)            (None, 224, 224, 64)      36928     \n",
      "_________________________________________________________________\n",
      "max_pooling2d (MaxPooling2D) (None, 112, 112, 64)      0         \n",
      "_________________________________________________________________\n",
      "conv2d_2 (Conv2D)            (None, 112, 112, 128)     73856     \n",
      "_________________________________________________________________\n",
      "conv2d_3 (Conv2D)            (None, 112, 112, 128)     147584    \n",
      "_________________________________________________________________\n",
      "max_pooling2d_1 (MaxPooling2 (None, 56, 56, 128)       0         \n",
      "_________________________________________________________________\n",
      "conv2d_4 (Conv2D)            (None, 56, 56, 256)       295168    \n",
      "_________________________________________________________________\n",
      "conv2d_5 (Conv2D)            (None, 56, 56, 256)       590080    \n",
      "_________________________________________________________________\n",
      "conv2d_6 (Conv2D)            (None, 56, 56, 256)       590080    \n",
      "_________________________________________________________________\n",
      "max_pooling2d_2 (MaxPooling2 (None, 28, 28, 256)       0         \n",
      "_________________________________________________________________\n",
      "conv2d_7 (Conv2D)            (None, 28, 28, 512)       1180160   \n",
      "_________________________________________________________________\n",
      "conv2d_8 (Conv2D)            (None, 28, 28, 512)       2359808   \n",
      "_________________________________________________________________\n",
      "conv2d_9 (Conv2D)            (None, 28, 28, 512)       2359808   \n",
      "_________________________________________________________________\n",
      "max_pooling2d_3 (MaxPooling2 (None, 14, 14, 512)       0         \n",
      "_________________________________________________________________\n",
      "conv2d_10 (Conv2D)           (None, 14, 14, 512)       2359808   \n",
      "_________________________________________________________________\n",
      "conv2d_11 (Conv2D)           (None, 14, 14, 512)       2359808   \n",
      "_________________________________________________________________\n",
      "conv2d_12 (Conv2D)           (None, 14, 14, 512)       2359808   \n",
      "_________________________________________________________________\n",
      "max_pooling2d_4 (MaxPooling2 (None, 7, 7, 512)         0         \n",
      "=================================================================\n",
      "Total params: 14,714,688\n",
      "Trainable params: 14,714,688\n",
      "Non-trainable params: 0\n",
      "_________________________________________________________________\n"
     ]
    }
   ],
   "source": [
    "from keras.layers import Flatten, Dense, BatchNormalization, Activation,Dropout\n",
    "from keras import Sequential\n",
    "from tensorflow.keras.optimizers import SGD\n",
    "from tensorflow.keras.optimizers import Adam\n",
    "from keras.layers import Dense, Conv2D, MaxPool2D , Flatten\n",
    "\n",
    "model = Sequential()\n",
    "model.add(Conv2D(input_shape=(224,224,3),filters=64,kernel_size=(3,3),padding=\"same\", activation=\"relu\"))\n",
    "model.add(Conv2D(filters=64,kernel_size=(3,3),padding=\"same\", activation=\"relu\"))\n",
    "model.add(MaxPool2D(pool_size=(2,2),strides=(2,2)))\n",
    "model.add(Conv2D(filters=128, kernel_size=(3,3), padding=\"same\", activation=\"relu\"))\n",
    "model.add(Conv2D(filters=128, kernel_size=(3,3), padding=\"same\", activation=\"relu\"))\n",
    "model.add(MaxPool2D(pool_size=(2,2),strides=(2,2)))\n",
    "model.add(Conv2D(filters=256, kernel_size=(3,3), padding=\"same\", activation=\"relu\"))\n",
    "model.add(Conv2D(filters=256, kernel_size=(3,3), padding=\"same\", activation=\"relu\"))\n",
    "model.add(Conv2D(filters=256, kernel_size=(3,3), padding=\"same\", activation=\"relu\"))\n",
    "model.add(MaxPool2D(pool_size=(2,2),strides=(2,2)))\n",
    "model.add(Conv2D(filters=512, kernel_size=(3,3), padding=\"same\", activation=\"relu\"))\n",
    "model.add(Conv2D(filters=512, kernel_size=(3,3), padding=\"same\", activation=\"relu\"))\n",
    "model.add(Conv2D(filters=512, kernel_size=(3,3), padding=\"same\", activation=\"relu\"))\n",
    "model.add(MaxPool2D(pool_size=(2,2),strides=(2,2)))\n",
    "model.add(Conv2D(filters=512, kernel_size=(3,3), padding=\"same\", activation=\"relu\"))\n",
    "model.add(Conv2D(filters=512, kernel_size=(3,3), padding=\"same\", activation=\"relu\"))\n",
    "model.add(Conv2D(filters=512, kernel_size=(3,3), padding=\"same\", activation=\"relu\"))\n",
    "model.add(MaxPool2D(pool_size=(2,2),strides=(2,2)))\n",
    "model.summary()"
   ]
  },
  {
   "cell_type": "code",
   "execution_count": 6,
   "metadata": {
    "id": "6OxIEVmWKWDR"
   },
   "outputs": [
    {
     "name": "stdout",
     "output_type": "stream",
     "text": [
      "Model: \"sequential\"\n",
      "_________________________________________________________________\n",
      "Layer (type)                 Output Shape              Param #   \n",
      "=================================================================\n",
      "conv2d (Conv2D)              (None, 224, 224, 64)      1792      \n",
      "_________________________________________________________________\n",
      "conv2d_1 (Conv2D)            (None, 224, 224, 64)      36928     \n",
      "_________________________________________________________________\n",
      "max_pooling2d (MaxPooling2D) (None, 112, 112, 64)      0         \n",
      "_________________________________________________________________\n",
      "conv2d_2 (Conv2D)            (None, 112, 112, 128)     73856     \n",
      "_________________________________________________________________\n",
      "conv2d_3 (Conv2D)            (None, 112, 112, 128)     147584    \n",
      "_________________________________________________________________\n",
      "max_pooling2d_1 (MaxPooling2 (None, 56, 56, 128)       0         \n",
      "_________________________________________________________________\n",
      "conv2d_4 (Conv2D)            (None, 56, 56, 256)       295168    \n",
      "_________________________________________________________________\n",
      "conv2d_5 (Conv2D)            (None, 56, 56, 256)       590080    \n",
      "_________________________________________________________________\n",
      "conv2d_6 (Conv2D)            (None, 56, 56, 256)       590080    \n",
      "_________________________________________________________________\n",
      "max_pooling2d_2 (MaxPooling2 (None, 28, 28, 256)       0         \n",
      "_________________________________________________________________\n",
      "conv2d_7 (Conv2D)            (None, 28, 28, 512)       1180160   \n",
      "_________________________________________________________________\n",
      "conv2d_8 (Conv2D)            (None, 28, 28, 512)       2359808   \n",
      "_________________________________________________________________\n",
      "conv2d_9 (Conv2D)            (None, 28, 28, 512)       2359808   \n",
      "_________________________________________________________________\n",
      "max_pooling2d_3 (MaxPooling2 (None, 14, 14, 512)       0         \n",
      "_________________________________________________________________\n",
      "conv2d_10 (Conv2D)           (None, 14, 14, 512)       2359808   \n",
      "_________________________________________________________________\n",
      "conv2d_11 (Conv2D)           (None, 14, 14, 512)       2359808   \n",
      "_________________________________________________________________\n",
      "conv2d_12 (Conv2D)           (None, 14, 14, 512)       2359808   \n",
      "_________________________________________________________________\n",
      "max_pooling2d_4 (MaxPooling2 (None, 7, 7, 512)         0         \n",
      "_________________________________________________________________\n",
      "flatten (Flatten)            (None, 25088)             0         \n",
      "_________________________________________________________________\n",
      "dense (Dense)                (None, 256)               6422784   \n",
      "_________________________________________________________________\n",
      "dense_1 (Dense)              (None, 128)               32896     \n",
      "_________________________________________________________________\n",
      "dense_2 (Dense)              (None, 3)                 387       \n",
      "=================================================================\n",
      "Total params: 21,170,755\n",
      "Trainable params: 21,170,755\n",
      "Non-trainable params: 0\n",
      "_________________________________________________________________\n"
     ]
    }
   ],
   "source": [
    "model.add(Flatten()) \n",
    "model.add(Dense(256,activation=('relu'),input_dim=512))\n",
    "#model.add(Dense(512,activation=('relu'))) \n",
    "#model.add(Dense(256,activation=('relu'))) \n",
    "model.add(Dense(128,activation=('relu')))\n",
    "model.add(Dense(3, activation=('softmax')))\n",
    "\n",
    "opt = SGD(learning_rate=0.0001, decay=1e-6, momentum=0.9)\n",
    "# opt = Adam(learning_rate=0.0003, beta_1=0.9, beta_2=0.999, epsilon=None, decay=0.0, amsgrad=False)\n",
    "model.compile(optimizer=opt, loss=\"categorical_crossentropy\", metrics=['accuracy'])\n",
    "model.summary()"
   ]
  },
  {
   "cell_type": "code",
   "execution_count": 7,
   "metadata": {
    "colab": {
     "base_uri": "https://localhost:8080/"
    },
    "id": "9qId-EC1BfBE",
    "outputId": "6db06451-bd9a-4618-edbe-33d7ec31229d"
   },
   "outputs": [
    {
     "name": "stdout",
     "output_type": "stream",
     "text": [
      "Epoch 1/20\n",
      "174/174 [==============================] - 54s 261ms/step - loss: 0.7519 - accuracy: 0.7057 - val_loss: 0.7951 - val_accuracy: 0.6697\n",
      "Epoch 2/20\n",
      "174/174 [==============================] - 45s 257ms/step - loss: 0.6618 - accuracy: 0.7277 - val_loss: 0.7988 - val_accuracy: 0.6834\n",
      "Epoch 3/20\n",
      "174/174 [==============================] - 43s 244ms/step - loss: 0.5583 - accuracy: 0.7746 - val_loss: 0.8483 - val_accuracy: 0.7024\n",
      "Epoch 4/20\n",
      "174/174 [==============================] - 43s 246ms/step - loss: 0.4734 - accuracy: 0.8158 - val_loss: 0.8398 - val_accuracy: 0.6880\n",
      "Epoch 5/20\n",
      "174/174 [==============================] - 42s 243ms/step - loss: 0.3833 - accuracy: 0.8579 - val_loss: 0.8478 - val_accuracy: 0.6903\n",
      "Epoch 6/20\n",
      "174/174 [==============================] - 42s 239ms/step - loss: 0.3020 - accuracy: 0.8960 - val_loss: 0.8934 - val_accuracy: 0.6842\n",
      "Epoch 7/20\n",
      "174/174 [==============================] - 42s 240ms/step - loss: 0.2643 - accuracy: 0.9048 - val_loss: 0.9516 - val_accuracy: 0.6826\n",
      "Epoch 8/20\n",
      "174/174 [==============================] - 42s 239ms/step - loss: 0.1779 - accuracy: 0.9361 - val_loss: 1.2316 - val_accuracy: 0.6613\n",
      "Epoch 9/20\n",
      "174/174 [==============================] - 42s 243ms/step - loss: 0.1434 - accuracy: 0.9484 - val_loss: 1.4160 - val_accuracy: 0.6469\n",
      "Epoch 10/20\n",
      "174/174 [==============================] - 42s 240ms/step - loss: 0.1474 - accuracy: 0.9489 - val_loss: 1.2123 - val_accuracy: 0.6971\n",
      "Epoch 11/20\n",
      "174/174 [==============================] - 42s 241ms/step - loss: 0.1259 - accuracy: 0.9540 - val_loss: 1.1469 - val_accuracy: 0.6880\n",
      "Epoch 12/20\n",
      "174/174 [==============================] - 42s 239ms/step - loss: 0.0793 - accuracy: 0.9727 - val_loss: 1.4175 - val_accuracy: 0.6979\n",
      "Epoch 13/20\n",
      "174/174 [==============================] - 42s 242ms/step - loss: 0.0675 - accuracy: 0.9792 - val_loss: 1.5032 - val_accuracy: 0.6941\n",
      "Epoch 14/20\n",
      "174/174 [==============================] - 41s 237ms/step - loss: 0.0388 - accuracy: 0.9874 - val_loss: 1.4980 - val_accuracy: 0.6880\n",
      "Epoch 15/20\n",
      "174/174 [==============================] - 42s 242ms/step - loss: 0.0285 - accuracy: 0.9922 - val_loss: 1.8071 - val_accuracy: 0.6865\n",
      "Epoch 16/20\n",
      "174/174 [==============================] - 41s 237ms/step - loss: 0.0303 - accuracy: 0.9919 - val_loss: 1.7192 - val_accuracy: 0.7009\n",
      "Epoch 17/20\n",
      "174/174 [==============================] - 42s 241ms/step - loss: 0.0226 - accuracy: 0.9951 - val_loss: 2.7728 - val_accuracy: 0.6986\n",
      "Epoch 18/20\n",
      "174/174 [==============================] - 42s 239ms/step - loss: 0.0307 - accuracy: 0.9921 - val_loss: 2.1110 - val_accuracy: 0.7032\n",
      "Epoch 19/20\n",
      "174/174 [==============================] - 42s 243ms/step - loss: 0.0191 - accuracy: 0.9953 - val_loss: 1.8620 - val_accuracy: 0.6903\n",
      "Epoch 20/20\n",
      "174/174 [==============================] - 42s 239ms/step - loss: 0.0228 - accuracy: 0.9935 - val_loss: 2.1157 - val_accuracy: 0.6918\n"
     ]
    }
   ],
   "source": [
    "history = model.fit(x_train, y_train, batch_size=32, epochs=20, shuffle=False, verbose=1, validation_data=(x_val, y_val))"
   ]
  },
  {
   "cell_type": "code",
   "execution_count": 8,
   "metadata": {
    "id": "Vvdm0DvBzbp4"
   },
   "outputs": [],
   "source": [
    "# print(model.get_layer(\"max_pooling2d_4\"))\n",
    "# print(model.get_layer(\"conv2d_12\"))\n",
    "from tensorflow import keras\n",
    "model.save(\"heatmap_model.h5\")"
   ]
  },
  {
   "cell_type": "code",
   "execution_count": 9,
   "metadata": {
    "id": "GzPErD5lGQBP"
   },
   "outputs": [
    {
     "data": {
      "image/png": "[encoded data removed]",
      "text/plain": [
       "<Figure size 432x288 with 1 Axes>"
      ]
     },
     "metadata": {
      "needs_background": "light"
     },
     "output_type": "display_data"
    }
   ],
   "source": [
    "import matplotlib.pyplot as pyplot\n",
    "pyplot.plot(history.history['loss'], label='training')\n",
    "pyplot.plot(history.history['val_loss'], label='validation')\n",
    "pyplot.legend()\n",
    "pyplot.show()"
   ]
  },
  {
   "cell_type": "code",
   "execution_count": 10,
   "metadata": {
    "id": "CwriwfBZGTY4"
   },
   "outputs": [
    {
     "data": {
      "image/png": "[encoded data removed]",
      "text/plain": [
       "<Figure size 432x288 with 1 Axes>"
      ]
     },
     "metadata": {
      "needs_background": "light"
     },
     "output_type": "display_data"
    }
   ],
   "source": [
    "pyplot.plot(history.history['accuracy'], label='training')\n",
    "pyplot.plot(history.history['val_accuracy'], label='validation')\n",
    "pyplot.legend()\n",
    "pyplot.show()"
   ]
  },
  {
   "cell_type": "code",
   "execution_count": 11,
   "metadata": {
    "id": "OBezJdZBJR4k"
   },
   "outputs": [
    {
     "data": {
      "image/png": "[encoded data removed]",
      "text/plain": [
       "<Figure size 360x504 with 1 Axes>"
      ]
     },
     "metadata": {
      "needs_background": "light"
     },
     "output_type": "display_data"
    }
   ],
   "source": [
    "import pandas as pd\n",
    "import matplotlib.pyplot as plt\n",
    "pd.DataFrame(history.history).plot(figsize=(5,7))\n",
    "plt.title(\"Pre-trained training performance\")\n",
    "plt.xlabel(\"epochs\")\n",
    "plt.ylabel(\"metrics\")\n",
    "plt.show()"
   ]
  },
  {
   "cell_type": "code",
   "execution_count": 12,
   "metadata": {
    "id": "NpPKsrv0BfBH"
   },
   "outputs": [],
   "source": [
    "y_pred = model.predict(x_test)"
   ]
  },
  {
   "cell_type": "code",
   "execution_count": 13,
   "metadata": {
    "id": "FOxlSPMxBfBI"
   },
   "outputs": [
    {
     "name": "stdout",
     "output_type": "stream",
     "text": [
      "(1527, 3)\n"
     ]
    }
   ],
   "source": [
    "print(y_pred.shape)\n",
    "ypred = np.argmax(y_pred, axis=1)"
   ]
  },
  {
   "cell_type": "code",
   "execution_count": 14,
   "metadata": {
    "id": "xeJkc5twBfBI"
   },
   "outputs": [],
   "source": [
    "y_act = np.argmax(y_test, axis=1)"
   ]
  },
  {
   "cell_type": "code",
   "execution_count": 15,
   "metadata": {
    "id": "zICPf7Ro3OEL"
   },
   "outputs": [
    {
     "name": "stdout",
     "output_type": "stream",
     "text": [
      "48/48 [==============================] - 3s 68ms/step - loss: 1.6143 - accuracy: 0.7570\n",
      "Testing loss :  1.614267110824585 Testing accuracy :  0.7570399641990662\n"
     ]
    }
   ],
   "source": [
    "loss, acc = model.evaluate(x_test,y_test)\n",
    "print(\"Testing loss : \", loss, \"Testing accuracy : \", acc);"
   ]
  },
  {
   "cell_type": "code",
   "execution_count": 16,
   "metadata": {
    "id": "lakPUhb7BfBI"
   },
   "outputs": [
    {
     "name": "stdout",
     "output_type": "stream",
     "text": [
      "0 : Hemorrhage\n",
      "1 : Infract\n",
      "2 : Normal\n"
     ]
    },
    {
     "data": {
      "image/png": "[encoded data removed]",
      "text/plain": [
       "<Figure size 432x288 with 2 Axes>"
      ]
     },
     "metadata": {
      "needs_background": "light"
     },
     "output_type": "display_data"
    }
   ],
   "source": [
    "from sklearn import metrics\n",
    "import seaborn as sns\n",
    "\n",
    "print(\"0 : Hemorrhage\")\n",
    "print(\"1 : Infract\")\n",
    "print(\"2 : Normal\")\n",
    "cf_mat = metrics.confusion_matrix(y_act, ypred)\n",
    "sns = sns.heatmap(cf_mat, annot=True)"
   ]
  },
  {
   "cell_type": "code",
   "execution_count": 17,
   "metadata": {
    "id": "-MmcfspvBfBJ"
   },
   "outputs": [
    {
     "name": "stdout",
     "output_type": "stream",
     "text": [
      "              precision    recall  f1-score   support\n",
      "\n",
      "  Hemorrhage       0.54      0.56      0.55       198\n",
      "     Infract       0.38      0.31      0.34       202\n",
      "      Normal       0.85      0.87      0.86      1127\n",
      "\n",
      "    accuracy                           0.76      1527\n",
      "   macro avg       0.59      0.58      0.58      1527\n",
      "weighted avg       0.75      0.76      0.75      1527\n",
      "\n"
     ]
    }
   ],
   "source": [
    "from sklearn.metrics import classification_report\n",
    "print(classification_report(y_act, ypred, target_names=[\"Hemorrhage\",\"Infract\",\"Normal\"]))"
   ]
  },
  {
   "cell_type": "code",
   "execution_count": 18,
   "metadata": {
    "id": "z6m-zed-BfBJ"
   },
   "outputs": [
    {
     "name": "stdout",
     "output_type": "stream",
     "text": [
      "RMSE :  0.7059481587775882\n"
     ]
    }
   ],
   "source": [
    "from sklearn.metrics import mean_squared_error\n",
    "rmse = mean_squared_error(y_act, ypred, squared=False)\n",
    "print(\"RMSE : \",rmse)"
   ]
  },
  {
   "cell_type": "code",
   "execution_count": 19,
   "metadata": {
    "id": "_1e1qeDsBfBJ"
   },
   "outputs": [
    {
     "name": "stdout",
     "output_type": "stream",
     "text": [
      "ROC curve (area = 0.72)\n"
     ]
    },
    {
     "data": {
      "image/png": "[encoded data removed]",
      "text/plain": [
       "<Figure size 432x288 with 1 Axes>"
      ]
     },
     "metadata": {
      "needs_background": "light"
     },
     "output_type": "display_data"
    }
   ],
   "source": [
    "  from sklearn import metrics\n",
    "fpr, tpr, thresholds = metrics.roc_curve(y_act, ypred, pos_label=2)\n",
    "roc_auc = metrics.auc(fpr, tpr)\n",
    "plt.plot(fpr, tpr, color='darkorange', label='ROC curve (area = %0.2f)' % roc_auc)\n",
    "print('ROC curve (area = %0.2f)' % roc_auc)"
   ]
  },
  {
   "cell_type": "code",
   "execution_count": null,
   "metadata": {
    "colab": {
     "background_save": true,
     "base_uri": "https://localhost:8080/",
     "height": 293
    },
    "id": "3bnlKffHBVGT",
    "outputId": "2a782b64-0725-4833-e22a-b814fd1f98bd"
   },
   "outputs": [],
   "source": [
    "# last_conv_layer_name = \"max_pooling2d_3\"\n",
    "last_conv_layer_name = \"conv2d_12\"\n",
    "import numpy as np\n",
    "import tensorflow as tf\n",
    "from tensorflow import keras\n",
    "\n",
    "# Display\n",
    "from IPython.display import Image, display\n",
    "import matplotlib.pyplot as plt\n",
    "import matplotlib.cm as cm\n",
    "\n",
    "def get_img_array(img_path, size):\n",
    "    # `img` is a PIL image of size 299x299\n",
    "    img = keras.preprocessing.image.load_img(img_path, target_size=size)\n",
    "    # `array` is a float32 Numpy array of shape (299, 299, 3)\n",
    "    array = keras.preprocessing.image.img_to_array(img)\n",
    "    # We add a dimension to transform our array into a \"batch\"\n",
    "    # of size (1, 299, 299, 3)\n",
    "    array = np.expand_dims(array, axis=0)\n",
    "    return array\n",
    "\n",
    "def make_gradcam_heatmap(img_array, model, last_conv_layer_name, pred_index=None):\n",
    "    grad_model = tf.keras.models.Model(\n",
    "        [model.inputs], [model.get_layer(last_conv_layer_name).output, model.output]\n",
    "    )\n",
    "    with tf.GradientTape() as tape:\n",
    "        last_conv_layer_output, preds = grad_model(img_array)\n",
    "        if pred_index is None:\n",
    "            pred_index = tf.argmax(preds[0])\n",
    "        class_channel = preds[:, pred_index]\n",
    "    grads = tape.gradient(class_channel, last_conv_layer_output)\n",
    "    pooled_grads = tf.reduce_mean(grads, axis=(0, 1, 2))\n",
    "    last_conv_layer_output = last_conv_layer_output[0]\n",
    "\n",
    "    heatmap = last_conv_layer_output @ pooled_grads[..., tf.newaxis]\n",
    "    heatmap = tf.squeeze(heatmap)\n",
    "    heatmap = tf.maximum(heatmap, 0) / tf.math.reduce_max(heatmap)\n",
    "    return heatmap.numpy()\n",
    "# img_array = x_test[50];\n",
    "# imgg = np.expand_dims(img_array, axis=0)\n",
    "imgg = get_img_array(\"./Ham.jpg\", (224,224))\n",
    "heatmap = make_gradcam_heatmap(imgg, model, last_conv_layer_name)\n",
    "\n",
    "# Display heatmap\n",
    "plt.matshow(heatmap)\n",
    "plt.show()"
   ]
  },
  {
   "cell_type": "code",
   "execution_count": null,
   "metadata": {
    "colab": {
     "base_uri": "https://localhost:8080/",
     "height": 529
    },
    "id": "aIkyIF2V2Vui",
    "outputId": "4cfc0976-85c3-48e7-815f-24b28f5baa34"
   },
   "outputs": [],
   "source": [
    "def save_and_display_gradcam(img_path, heatmap, cam_path=\"cam.jpg\", alpha=0.4):\n",
    "    # Load the original image\n",
    "    img = keras.preprocessing.image.load_img(img_path)\n",
    "    # img = img_path\n",
    "    img = keras.preprocessing.image.img_to_array(img)\n",
    "\n",
    "    # Rescale heatmap to a range 0-255\n",
    "    heatmap = np.uint8(255 * heatmap)\n",
    "\n",
    "    # Use jet colormap to colorize heatmap\n",
    "    jet = cm.get_cmap(\"jet\")\n",
    "\n",
    "    # Use RGB values of the colormap\n",
    "    jet_colors = jet(np.arange(256))[:, :3]\n",
    "    jet_heatmap = jet_colors[heatmap]\n",
    "\n",
    "    # Create an image with RGB colorized heatmap\n",
    "    jet_heatmap = keras.preprocessing.image.array_to_img(jet_heatmap)\n",
    "    jet_heatmap = jet_heatmap.resize((img.shape[1], img.shape[0]))\n",
    "    jet_heatmap = keras.preprocessing.image.img_to_array(jet_heatmap)\n",
    "\n",
    "    # Superimpose the heatmap on original image\n",
    "    superimposed_img = jet_heatmap * alpha + img\n",
    "    superimposed_img = keras.preprocessing.image.array_to_img(superimposed_img)\n",
    "\n",
    "    # Save the superimposed image\n",
    "    superimposed_img.save(cam_path)\n",
    "\n",
    "    # Display Grad CAM\n",
    "    display(Image(cam_path))\n",
    "# save_and_display_gradcam(imgg[0], heatmap)\n",
    "save_and_display_gradcam(\"./Ham.jpg\", heatmap)"
   ]
  },
  {
   "cell_type": "code",
   "execution_count": null,
   "metadata": {
    "id": "aSqf93o4TkDq"
   },
   "outputs": [],
   "source": []
  }
 ],
 "metadata": {
  "accelerator": "GPU",
  "colab": {
   "collapsed_sections": [],
   "name": "VGG16 on split Stroke with heatmap.ipynb",
   "provenance": []
  },
  "kernelspec": {
   "display_name": "Python 3",
   "language": "python",
   "name": "python3"
  },
  "language_info": {
   "codemirror_mode": {
    "name": "ipython",
    "version": 3
   },
   "file_extension": ".py",
   "mimetype": "text/x-python",
   "name": "python",
   "nbconvert_exporter": "python",
   "pygments_lexer": "ipython3",
   "version": "3.7.6"
  }
 },
 "nbformat": 4,
 "nbformat_minor": 1
}
